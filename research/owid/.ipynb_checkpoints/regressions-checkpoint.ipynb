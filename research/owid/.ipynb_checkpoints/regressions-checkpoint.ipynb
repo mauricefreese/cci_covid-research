{
 "cells": [
  {
   "cell_type": "markdown",
   "id": "c4e01c17-a4f1-4bf6-9d5b-3817eac112f2",
   "metadata": {},
   "source": [
    "sm.OLS"
   ]
  },
  {
   "cell_type": "markdown",
   "id": "9e4e66be-92f6-4ad7-a7f7-339c19749fc9",
   "metadata": {},
   "source": [
    "NOTE:\n",
    "- no prior history on cci before start date\n",
    "- df.dropna()"
   ]
  },
  {
   "cell_type": "markdown",
   "id": "b4ef14d9-1771-4f8d-ab9e-d6e76f08ab0a",
   "metadata": {},
   "source": [
    "> try!! https://stats.stackexchange.com/questions/405991/whats-the-use-of-lag-when-using-it-do-i-have-to-lag-my-dependent-variable-or-i  bottomish comment"
   ]
  },
  {
   "cell_type": "code",
   "execution_count": 1,
   "id": "9d0f8045-851d-43f1-8b69-622da737017b",
   "metadata": {},
   "outputs": [],
   "source": [
    "# libraries \n",
    "import numpy as np\n",
    "import statsmodels.api as sm\n",
    "import pandas as pd\n",
    "import statsmodels.formula.api as smf\n",
    "from statsmodels.tsa.ar_model import AutoReg\n",
    "from statsmodels.tsa.stattools import adfuller\n",
    "from statsmodels.compat import lzip\n",
    "import statsmodels.stats.api as sms\n",
    "from sklearn.linear_model import LinearRegression\n",
    "from statsmodels.stats.diagnostic import het_white"
   ]
  },
  {
   "cell_type": "code",
   "execution_count": 2,
   "id": "d52f762a-ebd7-407c-9328-969f113aab15",
   "metadata": {
    "tags": []
   },
   "outputs": [
    {
     "data": {
      "text/plain": [
       "670"
      ]
     },
     "execution_count": 2,
     "metadata": {},
     "output_type": "execute_result"
    }
   ],
   "source": [
    "\n",
    "# data\n",
    "df = pd.read_csv('cur-us_owid_covid_monthly.csv')\n",
    "df.shape[0]\n",
    "# df.head()"
   ]
  },
  {
   "cell_type": "code",
   "execution_count": 6,
   "id": "369746e6-54ae-4356-ae87-52998d560743",
   "metadata": {
    "collapsed": true,
    "jupyter": {
     "outputs_hidden": true
    },
    "tags": []
   },
   "outputs": [
    {
     "ename": "AttributeError",
     "evalue": "'DataFrame' object has no attribute 'summary'",
     "output_type": "error",
     "traceback": [
      "\u001b[0;31m---------------------------------------------------------------------------\u001b[0m",
      "\u001b[0;31mAttributeError\u001b[0m                            Traceback (most recent call last)",
      "Input \u001b[0;32mIn [6]\u001b[0m, in \u001b[0;36m<cell line: 5>\u001b[0;34m()\u001b[0m\n\u001b[1;32m      1\u001b[0m df \u001b[38;5;241m=\u001b[39m df\u001b[38;5;241m.\u001b[39mdropna()\n\u001b[1;32m      3\u001b[0m \u001b[38;5;66;03m# df.head()\u001b[39;00m\n\u001b[1;32m      4\u001b[0m \u001b[38;5;66;03m#df.shape[0]\u001b[39;00m\n\u001b[0;32m----> 5\u001b[0m \u001b[38;5;28mprint\u001b[39m(\u001b[43mdf\u001b[49m\u001b[38;5;241;43m.\u001b[39;49m\u001b[43msummary\u001b[49m())\n",
      "File \u001b[0;32m~/opt/anaconda3/lib/python3.9/site-packages/pandas/core/generic.py:5487\u001b[0m, in \u001b[0;36mNDFrame.__getattr__\u001b[0;34m(self, name)\u001b[0m\n\u001b[1;32m   5480\u001b[0m \u001b[38;5;28;01mif\u001b[39;00m (\n\u001b[1;32m   5481\u001b[0m     name \u001b[38;5;129;01mnot\u001b[39;00m \u001b[38;5;129;01min\u001b[39;00m \u001b[38;5;28mself\u001b[39m\u001b[38;5;241m.\u001b[39m_internal_names_set\n\u001b[1;32m   5482\u001b[0m     \u001b[38;5;129;01mand\u001b[39;00m name \u001b[38;5;129;01mnot\u001b[39;00m \u001b[38;5;129;01min\u001b[39;00m \u001b[38;5;28mself\u001b[39m\u001b[38;5;241m.\u001b[39m_metadata\n\u001b[1;32m   5483\u001b[0m     \u001b[38;5;129;01mand\u001b[39;00m name \u001b[38;5;129;01mnot\u001b[39;00m \u001b[38;5;129;01min\u001b[39;00m \u001b[38;5;28mself\u001b[39m\u001b[38;5;241m.\u001b[39m_accessors\n\u001b[1;32m   5484\u001b[0m     \u001b[38;5;129;01mand\u001b[39;00m \u001b[38;5;28mself\u001b[39m\u001b[38;5;241m.\u001b[39m_info_axis\u001b[38;5;241m.\u001b[39m_can_hold_identifiers_and_holds_name(name)\n\u001b[1;32m   5485\u001b[0m ):\n\u001b[1;32m   5486\u001b[0m     \u001b[38;5;28;01mreturn\u001b[39;00m \u001b[38;5;28mself\u001b[39m[name]\n\u001b[0;32m-> 5487\u001b[0m \u001b[38;5;28;01mreturn\u001b[39;00m \u001b[38;5;28;43mobject\u001b[39;49m\u001b[38;5;241;43m.\u001b[39;49m\u001b[38;5;21;43m__getattribute__\u001b[39;49m\u001b[43m(\u001b[49m\u001b[38;5;28;43mself\u001b[39;49m\u001b[43m,\u001b[49m\u001b[43m \u001b[49m\u001b[43mname\u001b[49m\u001b[43m)\u001b[49m\n",
      "\u001b[0;31mAttributeError\u001b[0m: 'DataFrame' object has no attribute 'summary'"
     ]
    }
   ],
   "source": [
    "df = df.dropna()\n",
    "\n",
    "# df.head()\n",
    "#df.shape[0]\n",
    "print(df.summary())"
   ]
  },
  {
   "cell_type": "markdown",
   "id": "9bd70f15-d24e-4b10-85fb-39eb479d87bb",
   "metadata": {},
   "source": [
    "OLS"
   ]
  },
  {
   "cell_type": "code",
   "execution_count": 82,
   "id": "9a35b148-52d0-4d78-aa1e-71cb218f9c03",
   "metadata": {
    "collapsed": true,
    "jupyter": {
     "outputs_hidden": true
    },
    "tags": []
   },
   "outputs": [
    {
     "name": "stdout",
     "output_type": "stream",
     "text": [
      "                            OLS Regression Results                            \n",
      "==============================================================================\n",
      "Dep. Variable:                    cci   R-squared:                       0.966\n",
      "Model:                            OLS   Adj. R-squared:                  0.966\n",
      "Method:                 Least Squares   F-statistic:                     2107.\n",
      "Date:                Mon, 07 Nov 2022   Prob (F-statistic):          1.60e-215\n",
      "Time:                        11:30:51   Log-Likelihood:                -912.87\n",
      "No. Observations:                 300   AIC:                             1836.\n",
      "Df Residuals:                     295   BIC:                             1854.\n",
      "Df Model:                           4                                         \n",
      "Covariance Type:            nonrobust                                         \n",
      "================================================================================\n",
      "                   coef    std err          t      P>|t|      [0.025      0.975]\n",
      "--------------------------------------------------------------------------------\n",
      "const          -30.3040      2.771    -10.936      0.000     -35.757     -24.851\n",
      "total_deaths  2.119e-05   2.34e-06      9.066      0.000    1.66e-05    2.58e-05\n",
      "cci_lag1         0.6037      0.036     16.740      0.000       0.533       0.675\n",
      "cci_lag5         0.1053      0.025      4.141      0.000       0.055       0.155\n",
      "umsent           0.6650      0.052     12.897      0.000       0.564       0.766\n",
      "==============================================================================\n",
      "Omnibus:                        2.650   Durbin-Watson:                   1.740\n",
      "Prob(Omnibus):                  0.266   Jarque-Bera (JB):                2.438\n",
      "Skew:                          -0.139   Prob(JB):                        0.296\n",
      "Kurtosis:                       3.344   Cond. No.                     1.71e+06\n",
      "==============================================================================\n",
      "\n",
      "Notes:\n",
      "[1] Standard Errors assume that the covariance matrix of the errors is correctly specified.\n",
      "[2] The condition number is large, 1.71e+06. This might indicate that there are\n",
      "strong multicollinearity or other numerical problems.\n"
     ]
    }
   ],
   "source": [
    "\n",
    "x = df[x_columns] \n",
    "x = sm.add_constant(x)\n",
    "summary = sm.OLS(y,x).fit()\n",
    "print(summary.summary())\n"
   ]
  },
  {
   "cell_type": "markdown",
   "id": "31d88995-82a4-4ee7-8b79-fdbfd07a575b",
   "metadata": {},
   "source": []
  },
  {
   "cell_type": "code",
   "execution_count": 70,
   "id": "d1ff0d08-7814-4a3b-9f61-20312afa86a2",
   "metadata": {
    "tags": []
   },
   "outputs": [
    {
     "name": "stdout",
     "output_type": "stream",
     "text": [
      "                 Results: Ordinary least squares\n",
      "==================================================================\n",
      "Model:              OLS              Adj. R-squared:     0.964    \n",
      "Dependent Variable: cci              AIC:                1851.5064\n",
      "Date:               2022-11-07 11:25 BIC:                1870.0253\n",
      "No. Observations:   300              Log-Likelihood:     -920.75  \n",
      "Df Model:           4                F-statistic:        1996.    \n",
      "Df Residuals:       295              Prob (F-statistic): 3.69e-212\n",
      "R-squared:          0.964            Scale:              27.585   \n",
      "------------------------------------------------------------------\n",
      "                 Coef.   Std.Err.    t    P>|t|   [0.025   0.975] \n",
      "------------------------------------------------------------------\n",
      "Intercept       -26.9516   2.7340 -9.8580 0.0000 -32.3322 -21.5710\n",
      "total_cases      -0.0000   0.0000 -1.0838 0.2793  -0.0000   0.0000\n",
      "total_deaths      0.0000   0.0000  3.1421 0.0018   0.0000   0.0000\n",
      "cci_lag1          0.7189   0.0238 30.1736 0.0000   0.6720   0.7658\n",
      "umsent            0.6157   0.0518 11.8970 0.0000   0.5138   0.7176\n",
      "------------------------------------------------------------------\n",
      "Omnibus:              1.920       Durbin-Watson:         1.885    \n",
      "Prob(Omnibus):        0.383       Jarque-Bera (JB):      1.716    \n",
      "Skew:                 -0.080      Prob(JB):              0.424    \n",
      "Kurtosis:             3.334       Condition No.:         117687480\n",
      "==================================================================\n",
      "* The condition number is large (1e+08). This might indicate\n",
      "strong multicollinearity or other numerical problems.\n"
     ]
    }
   ],
   "source": [
    "\n",
    "sy = smf.ols('cci ~ total_cases + total_deaths + cci_lag1 + umsent', df)\n",
    "mo = sy.fit()\n",
    "print(mo.summary2())"
   ]
  },
  {
   "cell_type": "code",
   "execution_count": null,
   "id": "95031fab-b491-4196-ad9f-02844f14bb58",
   "metadata": {},
   "outputs": [],
   "source": []
  },
  {
   "cell_type": "code",
   "execution_count": 75,
   "id": "bcf5b325-e6e5-4175-bce3-8268611d63cc",
   "metadata": {},
   "outputs": [],
   "source": [
    "x_columns = ['total_cases', 'new_cases', 'new_deaths', 'cci_lag1', 'total_deaths_lag1']"
   ]
  },
  {
   "cell_type": "code",
   "execution_count": 81,
   "id": "e91996e6-0426-4838-8ced-a04324279834",
   "metadata": {
    "tags": []
   },
   "outputs": [],
   "source": [
    "x_columns = [ 'total_deaths', 'cci_lag1', 'cci_lag5', 'umsent']\n",
    "y = df['cci']"
   ]
  },
  {
   "cell_type": "code",
   "execution_count": 54,
   "id": "8f84d21b-0342-4386-9466-ffefa6d9571e",
   "metadata": {
    "tags": []
   },
   "outputs": [
    {
     "name": "stdout",
     "output_type": "stream",
     "text": [
      "                            OLS Regression Results                            \n",
      "==============================================================================\n",
      "Dep. Variable:                    cci   R-squared:                       0.966\n",
      "Model:                            OLS   Adj. R-squared:                  0.966\n",
      "Method:                 Least Squares   F-statistic:                     2107.\n",
      "Date:                Mon, 07 Nov 2022   Prob (F-statistic):          1.60e-215\n",
      "Time:                        00:29:42   Log-Likelihood:                -912.87\n",
      "No. Observations:                 300   AIC:                             1836.\n",
      "Df Residuals:                     295   BIC:                             1854.\n",
      "Df Model:                           4                                         \n",
      "Covariance Type:            nonrobust                                         \n",
      "================================================================================\n",
      "                   coef    std err          t      P>|t|      [0.025      0.975]\n",
      "--------------------------------------------------------------------------------\n",
      "const          -30.3040      2.771    -10.936      0.000     -35.757     -24.851\n",
      "total_deaths  2.119e-05   2.34e-06      9.066      0.000    1.66e-05    2.58e-05\n",
      "cci_lag1         0.6037      0.036     16.740      0.000       0.533       0.675\n",
      "cci_lag5         0.1053      0.025      4.141      0.000       0.055       0.155\n",
      "umsent           0.6650      0.052     12.897      0.000       0.564       0.766\n",
      "==============================================================================\n",
      "Omnibus:                        2.650   Durbin-Watson:                   1.740\n",
      "Prob(Omnibus):                  0.266   Jarque-Bera (JB):                2.438\n",
      "Skew:                          -0.139   Prob(JB):                        0.296\n",
      "Kurtosis:                       3.344   Cond. No.                     1.71e+06\n",
      "==============================================================================\n",
      "\n",
      "Notes:\n",
      "[1] Standard Errors assume that the covariance matrix of the errors is correctly specified.\n",
      "[2] The condition number is large, 1.71e+06. This might indicate that there are\n",
      "strong multicollinearity or other numerical problems.\n"
     ]
    }
   ],
   "source": [
    "def get_sum():\n",
    "    x = df[x_columns] \n",
    "    x = sm.add_constant(x)\n",
    "    summary = sm.OLS(y,x).fit()\n",
    "    print(summary.summary())\n",
    "get_sum() "
   ]
  },
  {
   "cell_type": "markdown",
   "id": "9de27ff6-2d03-4a4c-9d6f-e386044a0ec7",
   "metadata": {
    "tags": []
   },
   "source": [
    ">> perform stepwise with cci lags and do before and after of summaries and of vfi"
   ]
  },
  {
   "cell_type": "code",
   "execution_count": null,
   "id": "67405869-bee2-4351-b6ac-67f04595819d",
   "metadata": {},
   "outputs": [],
   "source": [
    "# for vfi -- multicoliniearity ref\n",
    "x_columns = df[['total_cases', 'total_deaths', 'cci_lag1','cci_lag2', 'cci_lag3', 'cci_lag4', 'cci_lag5', 'umsent']]\n",
    "x = sm.add_constant(x_columns)\n",
    "y = df['cci']"
   ]
  },
  {
   "cell_type": "code",
   "execution_count": 41,
   "id": "a8df9e4f-a4ee-4df0-b60d-ab7d8d843a9e",
   "metadata": {},
   "outputs": [
    {
     "name": "stdout",
     "output_type": "stream",
     "text": [
      "                            OLS Regression Results                            \n",
      "==============================================================================\n",
      "Dep. Variable:                    cci   R-squared:                       0.860\n",
      "Model:                            OLS   Adj. R-squared:                  0.856\n",
      "Method:                 Least Squares   F-statistic:                     255.4\n",
      "Date:                Sun, 06 Nov 2022   Prob (F-statistic):          1.77e-120\n",
      "Time:                        18:10:47   Log-Likelihood:                -1126.4\n",
      "No. Observations:                 300   AIC:                             2269.\n",
      "Df Residuals:                     292   BIC:                             2298.\n",
      "Df Model:                           7                                         \n",
      "Covariance Type:            nonrobust                                         \n",
      "====================================================================================\n",
      "                       coef    std err          t      P>|t|      [0.025      0.975]\n",
      "------------------------------------------------------------------------------------\n",
      "const              -68.3541      7.406     -9.230      0.000     -82.930     -53.778\n",
      "total_cases       4.743e-07   4.22e-07      1.125      0.261   -3.55e-07     1.3e-06\n",
      "total_deaths      2.764e-05   3.33e-05      0.831      0.407   -3.78e-05    9.31e-05\n",
      "new_deaths          -0.0047      0.003     -1.596      0.111      -0.010       0.001\n",
      "positive_rate       32.6541     38.769      0.842      0.400     -43.648     108.956\n",
      "stringency_index     0.1835      0.116      1.579      0.115      -0.045       0.412\n",
      "umsent               2.0409      0.050     40.846      0.000       1.943       2.139\n",
      "ism_man             -0.2689      0.136     -1.972      0.050      -0.537      -0.001\n",
      "==============================================================================\n",
      "Omnibus:                        1.338   Durbin-Watson:                   0.467\n",
      "Prob(Omnibus):                  0.512   Jarque-Bera (JB):                1.253\n",
      "Skew:                           0.015   Prob(JB):                        0.535\n",
      "Kurtosis:                       2.685   Cond. No.                     8.37e+08\n",
      "==============================================================================\n",
      "\n",
      "Notes:\n",
      "[1] Standard Errors assume that the covariance matrix of the errors is correctly specified.\n",
      "[2] The condition number is large, 8.37e+08. This might indicate that there are\n",
      "strong multicollinearity or other numerical problems.\n"
     ]
    }
   ],
   "source": [
    "x_columns = ['total_cases', 'total_deaths', 'new_deaths', 'positive_rate', 'stringency_index', 'umsent', 'ism_man']\n",
    "y = df['cci']\n",
    "\n",
    "def get_sum():\n",
    "    x = df[x_columns] \n",
    "    x = sm.add_constant(x)\n",
    "    summary = sm.OLS(y,x).fit()\n",
    "    print(summary.summary())\n",
    "get_sum()"
   ]
  },
  {
   "cell_type": "code",
   "execution_count": 29,
   "id": "d34b6160-e578-4b05-87f3-8d0342dd38eb",
   "metadata": {},
   "outputs": [
    {
     "name": "stdout",
     "output_type": "stream",
     "text": [
      "                            OLS Regression Results                            \n",
      "==============================================================================\n",
      "Dep. Variable:                    cci   R-squared:                       0.633\n",
      "Model:                            OLS   Adj. R-squared:                  0.629\n",
      "Method:                 Least Squares   F-statistic:                     165.4\n",
      "Date:                Sun, 06 Nov 2022   Prob (F-statistic):           2.48e-62\n",
      "Time:                        15:49:15   Log-Likelihood:                -1231.1\n",
      "No. Observations:                 292   AIC:                             2470.\n",
      "Df Residuals:                     288   BIC:                             2485.\n",
      "Df Model:                           3                                         \n",
      "Covariance Type:            nonrobust                                         \n",
      "=================================================================================\n",
      "                    coef    std err          t      P>|t|      [0.025      0.975]\n",
      "---------------------------------------------------------------------------------\n",
      "const           -70.0587     11.350     -6.173      0.000     -92.397     -47.720\n",
      "positive_rate   334.3868     43.432      7.699      0.000     248.903     419.870\n",
      "umsent            1.6255      0.078     20.753      0.000       1.471       1.780\n",
      "ism_man           0.4287      0.202      2.118      0.035       0.030       0.827\n",
      "==============================================================================\n",
      "Omnibus:                       14.301   Durbin-Watson:                   0.344\n",
      "Prob(Omnibus):                  0.001   Jarque-Bera (JB):               15.593\n",
      "Skew:                          -0.563   Prob(JB):                     0.000411\n",
      "Kurtosis:                       2.883   Cond. No.                     4.62e+03\n",
      "==============================================================================\n",
      "\n",
      "Notes:\n",
      "[1] Standard Errors assume that the covariance matrix of the errors is correctly specified.\n",
      "[2] The condition number is large, 4.62e+03. This might indicate that there are\n",
      "strong multicollinearity or other numerical problems.\n"
     ]
    }
   ],
   "source": [
    "x_columns = [ 'positive_rate', 'umsent', 'ism_man']\n",
    "y = df['cci']\n",
    "\n",
    "def get_sum():\n",
    "    x = df[x_columns]\n",
    "    x = sm.add_constant(x)\n",
    "    summary = sm.OLS(y,x).fit()\n",
    "    print(summary.summary())\n",
    "get_sum()"
   ]
  },
  {
   "cell_type": "code",
   "execution_count": 95,
   "id": "d06a07ff-e5a5-4a72-bea8-671744ccb668",
   "metadata": {
    "collapsed": true,
    "jupyter": {
     "outputs_hidden": true
    },
    "tags": []
   },
   "outputs": [
    {
     "name": "stdout",
     "output_type": "stream",
     "text": [
      "                            OLS Regression Results                            \n",
      "==============================================================================\n",
      "Dep. Variable:                cci_cur   R-squared:                       0.755\n",
      "Model:                            OLS   Adj. R-squared:                  0.749\n",
      "Method:                 Least Squares   F-statistic:                     154.1\n",
      "Date:                Mon, 07 Nov 2022   Prob (F-statistic):           4.01e-94\n",
      "Time:                        11:45:40   Log-Likelihood:                -1379.1\n",
      "No. Observations:                 300   AIC:                             2774.\n",
      "Df Residuals:                     292   BIC:                             2804.\n",
      "Df Model:                           7                                         \n",
      "Covariance Type:                  HC2                                         \n",
      "====================================================================================\n",
      "                       coef    std err          z      P>|z|      [0.025      0.975]\n",
      "------------------------------------------------------------------------------------\n",
      "const              -92.9191     17.395     -5.342      0.000    -127.013     -58.825\n",
      "total_cases       6.774e-07   6.29e-07      1.077      0.281   -5.55e-07    1.91e-06\n",
      "new_cases          6.73e-05   5.74e-05      1.172      0.241   -4.52e-05       0.000\n",
      "total_deaths      9.385e-05   5.05e-05      1.860      0.063   -5.04e-06       0.000\n",
      "new_deaths          -0.0107      0.006     -1.885      0.059      -0.022       0.000\n",
      "stringency_index     0.0994      0.145      0.684      0.494      -0.185       0.384\n",
      "umsent               3.3895      0.110     30.923      0.000       3.175       3.604\n",
      "ism_man             -1.8206      0.302     -6.034      0.000      -2.412      -1.229\n",
      "==============================================================================\n",
      "Omnibus:                        2.582   Durbin-Watson:                   0.307\n",
      "Prob(Omnibus):                  0.275   Jarque-Bera (JB):                2.259\n",
      "Skew:                           0.113   Prob(JB):                        0.323\n",
      "Kurtosis:                       2.640   Cond. No.                     1.59e+08\n",
      "==============================================================================\n",
      "\n",
      "Notes:\n",
      "[1] Standard Errors are heteroscedasticity robust (HC2)\n",
      "[2] The condition number is large, 1.59e+08. This might indicate that there are\n",
      "strong multicollinearity or other numerical problems.\n"
     ]
    }
   ],
   "source": [
    "x_columns = ['total_cases', 'new_cases', 'total_deaths', 'new_deaths', 'stringency_index', 'umsent', 'ism_man']\n",
    "y = df['cci_cur']\n",
    "def get_sum():\n",
    "    x = df[x_columns]\n",
    "    x = sm.add_constant(x)\n",
    "    summary = sm.OLS(y,x).fit(cov_type='HC2')\n",
    "    print(summary.summary())\n",
    "get_sum()"
   ]
  },
  {
   "cell_type": "code",
   "execution_count": 59,
   "id": "9e2dfce9-4b74-4de5-b40c-7b737937bdad",
   "metadata": {
    "collapsed": true,
    "jupyter": {
     "outputs_hidden": true
    },
    "tags": []
   },
   "outputs": [
    {
     "name": "stdout",
     "output_type": "stream",
     "text": [
      "                            OLS Regression Results                            \n",
      "==============================================================================\n",
      "Dep. Variable:                cci_cur   R-squared:                       0.755\n",
      "Model:                            OLS   Adj. R-squared:                  0.749\n",
      "Method:                 Least Squares   F-statistic:                     157.1\n",
      "Date:                Sun, 06 Nov 2022   Prob (F-statistic):           4.40e-95\n",
      "Time:                        18:37:02   Log-Likelihood:                -1379.1\n",
      "No. Observations:                 300   AIC:                             2774.\n",
      "Df Residuals:                     292   BIC:                             2804.\n",
      "Df Model:                           7                                         \n",
      "Covariance Type:                  HC1                                         \n",
      "====================================================================================\n",
      "                       coef    std err          z      P>|z|      [0.025      0.975]\n",
      "------------------------------------------------------------------------------------\n",
      "const              -92.9191     17.446     -5.326      0.000    -127.113     -58.726\n",
      "total_cases       6.774e-07   5.82e-07      1.163      0.245   -4.64e-07    1.82e-06\n",
      "new_cases          6.73e-05   4.86e-05      1.384      0.167    -2.8e-05       0.000\n",
      "total_deaths      9.385e-05   4.75e-05      1.977      0.048    8.19e-07       0.000\n",
      "new_deaths          -0.0107      0.005     -2.155      0.031      -0.020      -0.001\n",
      "stringency_index     0.0994      0.136      0.728      0.466      -0.168       0.367\n",
      "umsent               3.3895      0.110     30.789      0.000       3.174       3.605\n",
      "ism_man             -1.8206      0.303     -6.009      0.000      -2.414      -1.227\n",
      "==============================================================================\n",
      "Omnibus:                        2.582   Durbin-Watson:                   0.307\n",
      "Prob(Omnibus):                  0.275   Jarque-Bera (JB):                2.259\n",
      "Skew:                           0.113   Prob(JB):                        0.323\n",
      "Kurtosis:                       2.640   Cond. No.                     1.59e+08\n",
      "==============================================================================\n",
      "\n",
      "Notes:\n",
      "[1] Standard Errors are heteroscedasticity robust (HC1)\n",
      "[2] The condition number is large, 1.59e+08. This might indicate that there are\n",
      "strong multicollinearity or other numerical problems.\n"
     ]
    }
   ],
   "source": [
    "x_columns = ['total_cases', 'new_cases', 'total_deaths', 'new_deaths', 'stringency_index', 'umsent', 'ism_man']\n",
    "y = df['cci_cur']\n",
    "def get_sum():\n",
    "    x = df[x_columns]\n",
    "    x = sm.add_constant(x)\n",
    "    summary = sm.OLS(y,x).fit(cov_type='HC1')\n",
    "    print(summary.summary())\n",
    "get_sum()"
   ]
  }
 ],
 "metadata": {
  "kernelspec": {
   "display_name": "Python 3 (ipykernel)",
   "language": "python",
   "name": "python3"
  },
  "language_info": {
   "codemirror_mode": {
    "name": "ipython",
    "version": 3
   },
   "file_extension": ".py",
   "mimetype": "text/x-python",
   "name": "python",
   "nbconvert_exporter": "python",
   "pygments_lexer": "ipython3",
   "version": "3.9.12"
  },
  "widgets": {
   "application/vnd.jupyter.widget-state+json": {
    "state": {},
    "version_major": 2,
    "version_minor": 0
   }
  }
 },
 "nbformat": 4,
 "nbformat_minor": 5
}
